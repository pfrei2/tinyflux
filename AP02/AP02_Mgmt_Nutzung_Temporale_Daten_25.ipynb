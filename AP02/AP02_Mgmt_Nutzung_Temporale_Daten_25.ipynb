{
 "cells": [
  {
   "cell_type": "markdown",
   "id": "4cf56921",
   "metadata": {},
   "source": [
    "# Arbeitspaket (AP) 2: Management & Nutzung Temporale Daten"
   ]
  },
  {
   "cell_type": "markdown",
   "id": "0f7fb22f",
   "metadata": {},
   "source": [
    "### Persönliche Angaben (bitte ergänzen)"
   ]
  },
  {
   "cell_type": "markdown",
   "id": "94d35a25",
   "metadata": {},
   "source": [
    "<table>\n",
    "  <tr>\n",
    "    <td>Vorname:</td>\n",
    "    <td>Phil</td>\n",
    "  </tr>\n",
    "  <tr>\n",
    "    <td>Nachname:</td>\n",
    "    <td>Frei</td>\n",
    "  </tr>\n",
    "  <tr>\n",
    "    <td>Immatrikulationsnummer:</td>\n",
    "    <td>21-548-946</td>\n",
    "  </tr>\n",
    "  <tr>\n",
    "    <td>Modul:</td>\n",
    "    <td>Data Science</td>\n",
    "  </tr>\n",
    "  <tr>\n",
    "    <td>Prüfungsdatum / Raum / Zeit:</td>\n",
    "    <td>06.10.2025 / Raum: MU O2.001 / 8:00 – 11:45</td>\n",
    "  </tr>\n",
    "  <tr>\n",
    "    <td>Erlaubte Hilfsmittel:</td>\n",
    "    <td>w.MA.XX.DS.25HS (Data Science)<br>Open Book, Eigener Computer, Internet-Zugang</td>\n",
    "  </tr>\n",
    "  <tr>\n",
    "  <td>Nicht erlaubt:</td>\n",
    "  <td>Nicht erlaubt ist der Einsatz beliebiger Formen von generativer KI (z.B. Copilot, ChatGPT) <br> sowie beliebige Formen von Kommunikation oder Kollaboration mit anderen Menschen.</td>\n",
    "</tr>\n",
    "</table>"
   ]
  },
  {
   "cell_type": "markdown",
   "id": "61847f62",
   "metadata": {},
   "source": [
    "## Bewertungskriterien\n",
    "\n",
    "### <b style=\"color: gray;\">(max. erreichbare Punkte: 40)</b>\n",
    "\n",
    "<table>\n",
    "  <thead>\n",
    "    <tr>\n",
    "      <th>Kategorie</th>\n",
    "      <th>Beschreibung</th>\n",
    "      <th>Punkteverteilung</th>\n",
    "    </tr>\n",
    "  </thead>\n",
    "  <tbody>\n",
    "    <tr>\n",
    "      <td>Code nicht lauffähig oder Ergebnisse nicht sinnvoll</td>\n",
    "      <td>Der Code enthält Fehler, die verhindern, dass er ausgeführt werden kann (z.B. Syntaxfehler) oder es werden Ergebnisse ausgegeben, welche nicht zur Fragestellung passen.</td>\n",
    "      <td>0 Punkte</td>\n",
    "    </tr>\n",
    "    <tr>\n",
    "      <td>Code lauffähig, aber mit gravierenden Mängeln</td>\n",
    "      <td>Der Code läuft, aber die Ergebnisse sind aufgrund wesentlicher Fehler unvollständig (z.B. fehlende Joins, gravierende Fehler in SQL-Abfragen). Nur geringer Fortschritt erkennbar.</td>\n",
    "      <td>25% der max. erreichbaren Punkte</td>\n",
    "    </tr>\n",
    "    <tr>\n",
    "      <td>Code lauffähig, aber mit mittleren Mängeln</td>\n",
    "      <td>Der Code läuft und liefert teilweise korrekte Ergebnisse, aber es gibt grössere Fehler (z.B. fehlende Spalten, unvollständige SQL-Abfragen). Die Ergebnisse sind nachvollziehbar, aber unvollständig oder ungenau.</td>\n",
    "      <td>50% der max. erreichbaren Punkte</td>\n",
    "    </tr>\n",
    "    <tr>\n",
    "      <td>Code lauffähig, aber mit minimalen Mängeln</td>\n",
    "      <td>Der Code läuft und liefert ein weitgehend korrektes Ergebnis, aber kleinere Fehler (z.B. falsche oder fehlende Sortierung, Rundung von Werten falsch) beeinträchtigen die Vollständigkeit des Ergebnisses.</td>\n",
    "      <td>75% der max. erreichbaren Punkte</td>\n",
    "    </tr>\n",
    "    <tr>\n",
    "      <td>Code lauffähig und korrekt</td>\n",
    "      <td>Der Code läuft einwandfrei und liefert das korrekte Ergebnis ohne Mängel.</td>\n",
    "      <td>100% der max. erreichbaren Punkte</td>\n",
    "    </tr>\n",
    "  </tbody>\n",
    "</table>\n",
    "\n"
   ]
  },
  {
   "cell_type": "markdown",
   "id": "90124c07-594b-4ad9-bfd0-e860212a6f4f",
   "metadata": {},
   "source": [
    "## <b>Vorbereitung (Dieser Teil wird <u>nicht</u> bewertet!)</b>"
   ]
  },
  {
   "cell_type": "markdown",
   "id": "61a93a82-696e-475a-a8da-9f5c475ae1cb",
   "metadata": {
    "jp-MarkdownHeadingCollapsed": true,
    "tags": []
   },
   "source": [
    "#### <b>Beschreibung des Datensatzes `synthetic_ecommerce_orders.csv`</b>\n",
    "\n",
    "- **Inhalt:** Synthetische E-Commerce-Bestellereignisse (April–Juni 2024)\n",
    "- **Schema:**\n",
    "  - `time` (lokale Zeit, Europe/Zurich, Format `YYYY-MM-DD HH:MM:SS`)\n",
    "  - `customer_id` (int)\n",
    "  - `product_id` (int)\n",
    "  - `price` (float, EUR)\n",
    "  - `discount` (float, EUR)\n",
    "  - `status` (category: `placed`, `paid`, `cancelled`, `refunded`)\n",
    "- **Hinweise zur Nutzung:**\n",
    "  - Für **Abfragen** mit Tinyflux Zeitstempel nach **UTC** konvertieren.\n",
    "  - `price - discount` kann als **Nettoerlös** interpretiert werden (v. a. für `paid`).\n",
    "  - Leichte Tages-/Wochenmuster (mehr Aktivität 09:00–21:00, werktags).\n",
    "- **Ziel:** Einlesen, in Tinyflux schreiben (Fields: `price`, `discount`; Tags: `customer_id`, `product_id`, `status`, optional `channel`), Zeitfenster-Abfragen und Aggregationen.\n"
   ]
  },
  {
   "cell_type": "markdown",
   "id": "9b8df3dd",
   "metadata": {},
   "source": [
    "#### <b>1.) Python Libraries und Settings importieren:</b>"
   ]
  },
  {
   "cell_type": "code",
   "execution_count": 88,
   "id": "b027d889",
   "metadata": {
    "tags": []
   },
   "outputs": [],
   "source": [
    "# Libraries\n",
    "import os\n",
    "import pandas as pd\n",
    "import csv\n",
    "from tinyflux import TinyFlux, Point, FieldQuery, TagQuery, TimeQuery\n",
    "from datetime import datetime, timezone, timedelta\n",
    "\n",
    "# Settings\n",
    "import warnings\n",
    "warnings.filterwarnings(\"ignore\")\n",
    "\n",
    "# Abkürzungen für Query-Typen\n",
    "time = TimeQuery()\n",
    "tags = TagQuery()\n",
    "field = FieldQuery()"
   ]
  },
  {
   "cell_type": "markdown",
   "id": "26250af4-2910-4da6-86bc-6c649d0791d3",
   "metadata": {},
   "source": [
    "#### <b>2.) Funktion für die Erstellung eines Dataframes aus Query-Resultaten in den Arbeitsspeicher laden:</b>"
   ]
  },
  {
   "cell_type": "code",
   "execution_count": 89,
   "id": "85718b1e-8fa0-422e-add9-e462f1147bd9",
   "metadata": {
    "tags": []
   },
   "outputs": [],
   "source": [
    "# Define the function to transform the list of Point objects into a DataFrame\n",
    "def points_to_dataframe(points_list):\n",
    "    data = []\n",
    "    \n",
    "    # Extract the relevant information\n",
    "    for point in points_list:\n",
    "        data.append({\n",
    "            \"time\": point.time,  # Access time attribute\n",
    "            \"customer_id\": point.tags['customer_id'],  # Access customer_id from tags dictionary\n",
    "            \"product_id\": point.tags['product_id'],  # Access product_id from tags dictionary\n",
    "            \"status\": point.tags['status'],  # Access status from tags dictionary\n",
    "            \"price\": point.fields['price'],  # Access price from fields dictionary\n",
    "            \"discount\": point.fields['discount']  # Access discount from fields dictionary\n",
    "        })\n",
    "\n",
    "    # Create a DataFrame\n",
    "    df = pd.DataFrame(data)\n",
    "\n",
    "    # Convert time to datetime\n",
    "    df['time'] = pd.to_datetime(df['time'])\n",
    "\n",
    "    return df"
   ]
  },
  {
   "cell_type": "markdown",
   "id": "2e253f40",
   "metadata": {},
   "source": [
    "#### <b>3.) Starten Sie eine GitHub Codespaces Instanz auf Basis Ihres Forks des folgenden GitHub Repositories:</b>\n",
    "\n",
    "##### GitHub-Repository: https://github.com/MariaPelli/tinyflux\n"
   ]
  },
  {
   "cell_type": "markdown",
   "id": "a2442005",
   "metadata": {},
   "source": [
    "#### <b>4.) Erstellen Sie mit Tinyflux eine Datenbank mit dem Namen \"ecommerce.db\".</b>"
   ]
  },
  {
   "cell_type": "code",
   "execution_count": 90,
   "id": "36ca64be",
   "metadata": {
    "tags": []
   },
   "outputs": [],
   "source": [
    "# Erstellung der Tinyflux-Datenbank\n",
    "db = TinyFlux(\"ecommerce.db\")"
   ]
  },
  {
   "cell_type": "markdown",
   "id": "e5c27b72",
   "metadata": {},
   "source": [
    "## <b>Aufgaben: Einlesen der Daten in die Datenbank (Dieser Teil wird bewertet!)</b>"
   ]
  },
  {
   "cell_type": "markdown",
   "id": "53f4b234",
   "metadata": {},
   "source": [
    "#### <b>Aufgabe (1): Lesen Sie die CSV-Datei 'synthetic_ecommerce_transactions.csv' in ein Dataframe mit dem Namen \"df\" ein, zeigen Sie die ersten 10 Records und geben deskriptive Statistiken des Dataframes aus.</b>\n",
    "\n",
    "<b>Details zur Aufgabenstellung:</b>\n",
    "\n",
    "- Das Laden der CSV-Datei kann mittels der Pandas-Funktion \"read_csv\" (https://pandas.pydata.org/pandas-docs/stable/reference/api/pandas.read_csv.html) erfolgen\n",
    "- Achten Sie darauf, den Zeitstempel mittels der Pandas-Funktion __df['timestamp']= pd.to_datetime(df['timestamp'], format='mixed')__ auf das Format datetime zu setzen (https://pandas.pydata.org/docs/reference/api/pandas.to_datetime.html)\n",
    "- Die ersten 10 Records können mittels der Pandas-Funktion \"df.head()\" wiedergegeben werden (https://pandas.pydata.org/docs/reference/api/pandas.DataFrame.head.html) \n",
    "- Deskriptive Statistiken können mittels Pandas-Funktion \"df.describe()\" (https://pandas.pydata.org/docs/reference/api/pandas.DataFrame.describe.html) wiedergegeben werden. Geben Sie diese für quantitative und kategoriale Variablen aus, indem Sie den Parameter include auf 'all' setzen.\n",
    "\n",
    "<b style=\"color: gray;\">(max. erreichbare Punkte: 4)</b>"
   ]
  },
  {
   "cell_type": "code",
   "execution_count": 91,
   "id": "ef32ffa2-1859-48af-a78c-0f1b5748fc98",
   "metadata": {
    "tags": []
   },
   "outputs": [],
   "source": [
    "# CSV-Datei in Dataframe laden\n",
    "df = pd.read_csv('synthetic_ecommerce_orders.csv')\n",
    "# Das Format des Zeitstempels in Pandas setzen\n",
    "df['time']= pd.to_datetime(df['time'], format='mixed')"
   ]
  },
  {
   "cell_type": "code",
   "execution_count": 92,
   "id": "a0e96111-8d86-42e6-abe6-57d49ec7e487",
   "metadata": {
    "tags": []
   },
   "outputs": [
    {
     "data": {
      "text/html": [
       "<div>\n",
       "<style scoped>\n",
       "    .dataframe tbody tr th:only-of-type {\n",
       "        vertical-align: middle;\n",
       "    }\n",
       "\n",
       "    .dataframe tbody tr th {\n",
       "        vertical-align: top;\n",
       "    }\n",
       "\n",
       "    .dataframe thead th {\n",
       "        text-align: right;\n",
       "    }\n",
       "</style>\n",
       "<table border=\"1\" class=\"dataframe\">\n",
       "  <thead>\n",
       "    <tr style=\"text-align: right;\">\n",
       "      <th></th>\n",
       "      <th>time</th>\n",
       "      <th>customer_id</th>\n",
       "      <th>product_id</th>\n",
       "      <th>price</th>\n",
       "      <th>discount</th>\n",
       "      <th>status</th>\n",
       "    </tr>\n",
       "  </thead>\n",
       "  <tbody>\n",
       "    <tr>\n",
       "      <th>0</th>\n",
       "      <td>2024-06-14 15:24:38</td>\n",
       "      <td>11192</td>\n",
       "      <td>686</td>\n",
       "      <td>29.07</td>\n",
       "      <td>5.52</td>\n",
       "      <td>paid</td>\n",
       "    </tr>\n",
       "    <tr>\n",
       "      <th>1</th>\n",
       "      <td>2024-05-07 22:45:57</td>\n",
       "      <td>10763</td>\n",
       "      <td>1246</td>\n",
       "      <td>39.82</td>\n",
       "      <td>0.00</td>\n",
       "      <td>cancelled</td>\n",
       "    </tr>\n",
       "    <tr>\n",
       "      <th>2</th>\n",
       "      <td>2024-06-04 19:16:06</td>\n",
       "      <td>10966</td>\n",
       "      <td>1332</td>\n",
       "      <td>15.97</td>\n",
       "      <td>1.28</td>\n",
       "      <td>paid</td>\n",
       "    </tr>\n",
       "    <tr>\n",
       "      <th>3</th>\n",
       "      <td>2024-04-15 22:58:24</td>\n",
       "      <td>12368</td>\n",
       "      <td>642</td>\n",
       "      <td>32.84</td>\n",
       "      <td>5.25</td>\n",
       "      <td>placed</td>\n",
       "    </tr>\n",
       "    <tr>\n",
       "      <th>4</th>\n",
       "      <td>2024-06-01 10:21:20</td>\n",
       "      <td>10847</td>\n",
       "      <td>1094</td>\n",
       "      <td>16.67</td>\n",
       "      <td>1.17</td>\n",
       "      <td>paid</td>\n",
       "    </tr>\n",
       "    <tr>\n",
       "      <th>5</th>\n",
       "      <td>2024-06-22 22:41:19</td>\n",
       "      <td>10360</td>\n",
       "      <td>1498</td>\n",
       "      <td>35.11</td>\n",
       "      <td>2.11</td>\n",
       "      <td>paid</td>\n",
       "    </tr>\n",
       "    <tr>\n",
       "      <th>6</th>\n",
       "      <td>2024-04-28 19:07:09</td>\n",
       "      <td>10130</td>\n",
       "      <td>674</td>\n",
       "      <td>23.90</td>\n",
       "      <td>2.87</td>\n",
       "      <td>cancelled</td>\n",
       "    </tr>\n",
       "    <tr>\n",
       "      <th>7</th>\n",
       "      <td>2024-06-07 08:35:33</td>\n",
       "      <td>12825</td>\n",
       "      <td>883</td>\n",
       "      <td>28.96</td>\n",
       "      <td>1.16</td>\n",
       "      <td>paid</td>\n",
       "    </tr>\n",
       "    <tr>\n",
       "      <th>8</th>\n",
       "      <td>2024-05-13 21:04:39</td>\n",
       "      <td>12776</td>\n",
       "      <td>960</td>\n",
       "      <td>18.69</td>\n",
       "      <td>3.18</td>\n",
       "      <td>paid</td>\n",
       "    </tr>\n",
       "    <tr>\n",
       "      <th>9</th>\n",
       "      <td>2024-06-10 12:55:15</td>\n",
       "      <td>10847</td>\n",
       "      <td>1230</td>\n",
       "      <td>14.73</td>\n",
       "      <td>2.80</td>\n",
       "      <td>paid</td>\n",
       "    </tr>\n",
       "  </tbody>\n",
       "</table>\n",
       "</div>"
      ],
      "text/plain": [
       "                 time  customer_id  product_id  price  discount     status\n",
       "0 2024-06-14 15:24:38        11192         686  29.07      5.52       paid\n",
       "1 2024-05-07 22:45:57        10763        1246  39.82      0.00  cancelled\n",
       "2 2024-06-04 19:16:06        10966        1332  15.97      1.28       paid\n",
       "3 2024-04-15 22:58:24        12368         642  32.84      5.25     placed\n",
       "4 2024-06-01 10:21:20        10847        1094  16.67      1.17       paid\n",
       "5 2024-06-22 22:41:19        10360        1498  35.11      2.11       paid\n",
       "6 2024-04-28 19:07:09        10130         674  23.90      2.87  cancelled\n",
       "7 2024-06-07 08:35:33        12825         883  28.96      1.16       paid\n",
       "8 2024-05-13 21:04:39        12776         960  18.69      3.18       paid\n",
       "9 2024-06-10 12:55:15        10847        1230  14.73      2.80       paid"
      ]
     },
     "execution_count": 92,
     "metadata": {},
     "output_type": "execute_result"
    }
   ],
   "source": [
    "# Erste 10 Records des Dataframes anzeigen\n",
    "df.head(10)"
   ]
  },
  {
   "cell_type": "code",
   "execution_count": 93,
   "id": "a05e328c-b0c2-4fb3-ab50-e92c613fc801",
   "metadata": {
    "tags": []
   },
   "outputs": [
    {
     "data": {
      "text/html": [
       "<div>\n",
       "<style scoped>\n",
       "    .dataframe tbody tr th:only-of-type {\n",
       "        vertical-align: middle;\n",
       "    }\n",
       "\n",
       "    .dataframe tbody tr th {\n",
       "        vertical-align: top;\n",
       "    }\n",
       "\n",
       "    .dataframe thead th {\n",
       "        text-align: right;\n",
       "    }\n",
       "</style>\n",
       "<table border=\"1\" class=\"dataframe\">\n",
       "  <thead>\n",
       "    <tr style=\"text-align: right;\">\n",
       "      <th></th>\n",
       "      <th>time</th>\n",
       "      <th>customer_id</th>\n",
       "      <th>product_id</th>\n",
       "      <th>price</th>\n",
       "      <th>discount</th>\n",
       "      <th>status</th>\n",
       "    </tr>\n",
       "  </thead>\n",
       "  <tbody>\n",
       "    <tr>\n",
       "      <th>count</th>\n",
       "      <td>4000</td>\n",
       "      <td>4000.000000</td>\n",
       "      <td>4000.000000</td>\n",
       "      <td>4000.000000</td>\n",
       "      <td>4000.000000</td>\n",
       "      <td>4000</td>\n",
       "    </tr>\n",
       "    <tr>\n",
       "      <th>unique</th>\n",
       "      <td>NaN</td>\n",
       "      <td>NaN</td>\n",
       "      <td>NaN</td>\n",
       "      <td>NaN</td>\n",
       "      <td>NaN</td>\n",
       "      <td>4</td>\n",
       "    </tr>\n",
       "    <tr>\n",
       "      <th>top</th>\n",
       "      <td>NaN</td>\n",
       "      <td>NaN</td>\n",
       "      <td>NaN</td>\n",
       "      <td>NaN</td>\n",
       "      <td>NaN</td>\n",
       "      <td>paid</td>\n",
       "    </tr>\n",
       "    <tr>\n",
       "      <th>freq</th>\n",
       "      <td>NaN</td>\n",
       "      <td>NaN</td>\n",
       "      <td>NaN</td>\n",
       "      <td>NaN</td>\n",
       "      <td>NaN</td>\n",
       "      <td>2853</td>\n",
       "    </tr>\n",
       "    <tr>\n",
       "      <th>mean</th>\n",
       "      <td>2024-05-16 05:35:34.792000</td>\n",
       "      <td>11506.696750</td>\n",
       "      <td>998.228500</td>\n",
       "      <td>29.795737</td>\n",
       "      <td>3.025215</td>\n",
       "      <td>NaN</td>\n",
       "    </tr>\n",
       "    <tr>\n",
       "      <th>min</th>\n",
       "      <td>2024-04-01 00:17:20</td>\n",
       "      <td>10001.000000</td>\n",
       "      <td>500.000000</td>\n",
       "      <td>5.790000</td>\n",
       "      <td>0.000000</td>\n",
       "      <td>NaN</td>\n",
       "    </tr>\n",
       "    <tr>\n",
       "      <th>25%</th>\n",
       "      <td>2024-04-22 12:21:22.249999872</td>\n",
       "      <td>10750.000000</td>\n",
       "      <td>751.000000</td>\n",
       "      <td>20.047500</td>\n",
       "      <td>1.260000</td>\n",
       "      <td>NaN</td>\n",
       "    </tr>\n",
       "    <tr>\n",
       "      <th>50%</th>\n",
       "      <td>2024-05-15 23:07:57.500000</td>\n",
       "      <td>11519.000000</td>\n",
       "      <td>996.000000</td>\n",
       "      <td>26.925000</td>\n",
       "      <td>2.535000</td>\n",
       "      <td>NaN</td>\n",
       "    </tr>\n",
       "    <tr>\n",
       "      <th>75%</th>\n",
       "      <td>2024-06-08 11:09:16.249999872</td>\n",
       "      <td>12235.000000</td>\n",
       "      <td>1251.000000</td>\n",
       "      <td>36.532500</td>\n",
       "      <td>4.240000</td>\n",
       "      <td>NaN</td>\n",
       "    </tr>\n",
       "    <tr>\n",
       "      <th>max</th>\n",
       "      <td>2024-06-30 23:23:12</td>\n",
       "      <td>12999.000000</td>\n",
       "      <td>1499.000000</td>\n",
       "      <td>142.670000</td>\n",
       "      <td>18.360000</td>\n",
       "      <td>NaN</td>\n",
       "    </tr>\n",
       "    <tr>\n",
       "      <th>std</th>\n",
       "      <td>NaN</td>\n",
       "      <td>855.933289</td>\n",
       "      <td>289.257306</td>\n",
       "      <td>13.892157</td>\n",
       "      <td>2.479824</td>\n",
       "      <td>NaN</td>\n",
       "    </tr>\n",
       "  </tbody>\n",
       "</table>\n",
       "</div>"
      ],
      "text/plain": [
       "                                 time   customer_id   product_id        price  \\\n",
       "count                            4000   4000.000000  4000.000000  4000.000000   \n",
       "unique                            NaN           NaN          NaN          NaN   \n",
       "top                               NaN           NaN          NaN          NaN   \n",
       "freq                              NaN           NaN          NaN          NaN   \n",
       "mean       2024-05-16 05:35:34.792000  11506.696750   998.228500    29.795737   \n",
       "min               2024-04-01 00:17:20  10001.000000   500.000000     5.790000   \n",
       "25%     2024-04-22 12:21:22.249999872  10750.000000   751.000000    20.047500   \n",
       "50%        2024-05-15 23:07:57.500000  11519.000000   996.000000    26.925000   \n",
       "75%     2024-06-08 11:09:16.249999872  12235.000000  1251.000000    36.532500   \n",
       "max               2024-06-30 23:23:12  12999.000000  1499.000000   142.670000   \n",
       "std                               NaN    855.933289   289.257306    13.892157   \n",
       "\n",
       "           discount status  \n",
       "count   4000.000000   4000  \n",
       "unique          NaN      4  \n",
       "top             NaN   paid  \n",
       "freq            NaN   2853  \n",
       "mean       3.025215    NaN  \n",
       "min        0.000000    NaN  \n",
       "25%        1.260000    NaN  \n",
       "50%        2.535000    NaN  \n",
       "75%        4.240000    NaN  \n",
       "max       18.360000    NaN  \n",
       "std        2.479824    NaN  "
      ]
     },
     "execution_count": 93,
     "metadata": {},
     "output_type": "execute_result"
    }
   ],
   "source": [
    "# Deskriptive Statistiken des Dataframes\n",
    "df.describe(include='all')\n"
   ]
  },
  {
   "cell_type": "markdown",
   "id": "66164662",
   "metadata": {},
   "source": [
    "#### <b>Aufgabe (2): Schreiben Sie den Inhalt der CSV-Datei 'ecommerce.csv' in die erstellte Tinyflux-Datenbank \"ecommerce.db\" und weisen sie Time, Fields und Tags zu.</b>\n",
    "\n",
    "<b style=\"color: gray;\">(max. erreichbare Punkte: 8)</b>"
   ]
  },
  {
   "cell_type": "code",
   "execution_count": 94,
   "id": "cfd07b2d-1b23-4c93-b3f9-ccc3dcc73c31",
   "metadata": {
    "tags": []
   },
   "outputs": [
    {
     "data": {
      "text/plain": [
       "1"
      ]
     },
     "execution_count": 94,
     "metadata": {},
     "output_type": "execute_result"
    }
   ],
   "source": [
    "# Tinyflux Datenbank leeren\n",
    "os.path.exists('ecommerce.db') and open('ecommerce.db','w').close()\n",
    "\n",
    "# Einlesen der CSV-Datei in Tinyflux\n",
    "with open(\"synthetic_ecommerce_orders.csv\", mode=\"r\") as file:\n",
    "    reader = csv.DictReader(file)\n",
    "    for row in reader:\n",
    "            point = Point(\n",
    "                time=datetime.strptime(row[\"time\"], \"%Y-%m-%d %H:%M:%S\"),\n",
    "                measurement=\"blockchain_transactions\",\n",
    "                fields={\n",
    "                    \"price\": float(row[\"price\"]),\n",
    "                    \"discount\": float(row[\"discount\"])\n",
    "                    }, # Only numeric fields\n",
    "                tags={\n",
    "                    \"customer_id\": row[\"customer_id\"],\n",
    "                    \"product_id\": row[\"product_id\"],\n",
    "                    \"status\": row[\"status\"] # Move non-numeric fields to tags\n",
    "}\n",
    ")\n",
    "db.insert(point)"
   ]
  },
  {
   "cell_type": "markdown",
   "id": "8b3b0ec4-23c0-4a37-9b5b-1e07bc086dd9",
   "metadata": {
    "tags": []
   },
   "source": [
    "#### <b>Aufgabe (3): Die ersten drei Käufe erhalten am 7.7.2024 10% auf den am 1.4.2024 bezahlten Preis (ohne Berücksichtigung des Discounts) zurückerstattet. Fügen Sie die drei Transaktionen manuell in die Datenbank ein und weisen Sie Time, Fields und Tags gleichermassen zu, wie beim Inhalt der CSV-Datei.\n",
    "\n",
    "</b>\n",
    "\n",
    "<b style=\"color: gray;\">(max. erreichbare Punkte: 4)</b>"
   ]
  },
  {
   "cell_type": "code",
   "execution_count": 95,
   "id": "07669128-00bc-4640-aa91-c95803714e73",
   "metadata": {
    "tags": []
   },
   "outputs": [
    {
     "name": "stdout",
     "output_type": "stream",
     "text": [
      "Rückerstattung 1. Kauf: 4.679\n",
      "Rückerstattung 2. Kauf: 2.237\n",
      "Rückerstattung 3. Kauf: 3.876\n"
     ]
    }
   ],
   "source": [
    "# Berechnung der Rückerstattung am 7.7.2024\n",
    "\n",
    "v1 = 46.79 * 0.1\n",
    "print('Rückerstattung 1. Kauf:', v1)\n",
    "v2 = 22.37 * 0.1\n",
    "print('Rückerstattung 2. Kauf:', v2)\n",
    "v3 = 38.76 * 0.1\n",
    "print('Rückerstattung 3. Kauf:', v3)"
   ]
  },
  {
   "cell_type": "markdown",
   "id": "a7265ca3-f195-4d9a-b4fa-1b211f3a7ae5",
   "metadata": {},
   "source": [
    "| time | customer_id | product_id | price | discount | status |\n",
    "| --- | --- | --- | --- | --- | --- |\n",
    "| 2024-07-07 00:00:00 | 12828 | 1114 | 4.679 | 0.00 | refunded |\n",
    "| 2024-07-07 00:00:00 | 12313 | 1414 | 2.237 | 0.00 | refunded |\n",
    "| 2024-07-07 00:00:00 | 12117 | 1242 | 3.876 | 0.00 | refunded |"
   ]
  },
  {
   "cell_type": "code",
   "execution_count": 96,
   "id": "ed3e36b8-11e5-48b3-babf-ed6558f47728",
   "metadata": {
    "tags": []
   },
   "outputs": [
    {
     "data": {
      "text/plain": [
       "3"
      ]
     },
     "execution_count": 96,
     "metadata": {},
     "output_type": "execute_result"
    }
   ],
   "source": [
    "# Einlesen von manuellen Records\n",
    "p1 = Point(\n",
    "time=datetime(2024, 7, 7, 0, 0, 0, tzinfo=timezone.utc),\n",
    "tags={\"customer_id\": \"12828\", \"product_id\": \"1114\", \"status\": \"refunded\"},\n",
    "fields={\"price\": 4.679, \"discount\": 0}\n",
    ")\n",
    "p2 = Point(\n",
    "time=datetime(2024, 7, 7, 0, 0, 0, tzinfo=timezone.utc),\n",
    "tags={\"customer_id\": \"12313\", \"product_id\": \"1414\", \"status\": \"refunded\"},\n",
    "fields={\"price\": 2.237, \"discount\": 0}\n",
    ")\n",
    "p3 = Point(\n",
    "time=datetime(2024, 7, 7, 0, 0, 0, tzinfo=timezone.utc),\n",
    "tags={\"customer_id\": \"12117\", \"product_id\": \"1242\", \"status\": \"refunded\"},\n",
    "fields={\"price\": 3.876, \"discount\": 0}\n",
    ")\n",
    "# Insert into the DB.\n",
    "db.insert_multiple([p1, p2, p3])"
   ]
  },
  {
   "cell_type": "markdown",
   "id": "4f6fa711",
   "metadata": {},
   "source": [
    "<div>\n",
    "\n",
    "#### <b> Hinweis! \n",
    "\n",
    "#### Falls etwas mit der Erstellung der Datenbank nicht funktioniert, verwenden Sie für die folgenden Aufgaben die Tinyflux Datenbank 'ecommerce_fallback.db'. Gehen Sie davon aus, dass diese unter denselben, obigen Bedingungen erstellt wurde.</b>\n",
    "    \n",
    "#### <b>Erstellen der Verbindung mit der Tinyflux-Datenbank mit dem Namen \"ecommerce_fallback.db\":</b>\n",
    "</div>"
   ]
  },
  {
   "cell_type": "code",
   "execution_count": 97,
   "id": "2249c16f-aac9-4a4b-8640-fb20614e8de6",
   "metadata": {},
   "outputs": [],
   "source": [
    "# Erstellung der Tinyflux-Datenbank (wird bereitgestellt)\n",
    "db = TinyFlux(\"ecommerce_fallback.db\")"
   ]
  },
  {
   "cell_type": "markdown",
   "id": "f1b7e2b8-3f89-461d-b1f7-de6d577a102d",
   "metadata": {},
   "source": [
    "## <b>Aufgaben: Abfragen (Queries) (Dieser Teil wird bewertet!)</b>\n",
    "\n",
    "<b >Hinweise zu den folgenden Aufgabenstellungen:</b>\n",
    "<ul>\n",
    "  <li>Erstellen Sie je Aufgabe eine Time-, Field- oder Tag Abfrage bzw. eine Kombination von diesen und integrieren Sie diese in Ihren Python Code.</li>\n",
    "  <li>Speichern Sie je Aufgabe die Ergebnistabelle mittels der zu Beginn dieses Notebooks bereitgestellten Funktion <b>points_to_dataframe</b> in einem DataFrame und stellen Sie diesen bzw. dessen Eigenschaften ganz oder in Teilen (z.B. erste 5 Zeilen) dar.</li>\n",
    "</ul>"
   ]
  },
  {
   "cell_type": "markdown",
   "id": "8af4064e-4cc5-46d7-beba-bd6fb9a73d45",
   "metadata": {},
   "source": [
    "#### <b>Aufgabe (4): Schreiben Sie alle Bestellungen in ein Dataframe, die bis und mit dem 4.4.2024 getätigt wurden und geben Sie die ersten 10 Records dieses Dataframes aus</b>\n",
    "<b style=\"color: gray;\">(max. erreichbare Punkte: 4)</b>"
   ]
  },
  {
   "cell_type": "code",
   "execution_count": 98,
   "id": "0d536be5-d641-476c-9d36-6e7a0a8bebe2",
   "metadata": {
    "tags": []
   },
   "outputs": [
    {
     "data": {
      "text/html": [
       "<div>\n",
       "<style scoped>\n",
       "    .dataframe tbody tr th:only-of-type {\n",
       "        vertical-align: middle;\n",
       "    }\n",
       "\n",
       "    .dataframe tbody tr th {\n",
       "        vertical-align: top;\n",
       "    }\n",
       "\n",
       "    .dataframe thead th {\n",
       "        text-align: right;\n",
       "    }\n",
       "</style>\n",
       "<table border=\"1\" class=\"dataframe\">\n",
       "  <thead>\n",
       "    <tr style=\"text-align: right;\">\n",
       "      <th></th>\n",
       "      <th>time</th>\n",
       "      <th>customer_id</th>\n",
       "      <th>product_id</th>\n",
       "      <th>status</th>\n",
       "      <th>price</th>\n",
       "      <th>discount</th>\n",
       "    </tr>\n",
       "  </thead>\n",
       "  <tbody>\n",
       "    <tr>\n",
       "      <th>0</th>\n",
       "      <td>2024-03-31 22:17:20+00:00</td>\n",
       "      <td>12313</td>\n",
       "      <td>1414</td>\n",
       "      <td>paid</td>\n",
       "      <td>22.37</td>\n",
       "      <td>3.36</td>\n",
       "    </tr>\n",
       "    <tr>\n",
       "      <th>1</th>\n",
       "      <td>2024-03-31 22:37:39+00:00</td>\n",
       "      <td>10758</td>\n",
       "      <td>878</td>\n",
       "      <td>placed</td>\n",
       "      <td>33.27</td>\n",
       "      <td>0.33</td>\n",
       "    </tr>\n",
       "    <tr>\n",
       "      <th>2</th>\n",
       "      <td>2024-03-31 23:58:15+00:00</td>\n",
       "      <td>11028</td>\n",
       "      <td>1166</td>\n",
       "      <td>paid</td>\n",
       "      <td>13.18</td>\n",
       "      <td>1.05</td>\n",
       "    </tr>\n",
       "    <tr>\n",
       "      <th>3</th>\n",
       "      <td>2024-04-01 01:33:13+00:00</td>\n",
       "      <td>12496</td>\n",
       "      <td>1414</td>\n",
       "      <td>paid</td>\n",
       "      <td>40.91</td>\n",
       "      <td>3.27</td>\n",
       "    </tr>\n",
       "    <tr>\n",
       "      <th>4</th>\n",
       "      <td>2024-04-01 03:18:39+00:00</td>\n",
       "      <td>12036</td>\n",
       "      <td>1166</td>\n",
       "      <td>placed</td>\n",
       "      <td>38.58</td>\n",
       "      <td>10.03</td>\n",
       "    </tr>\n",
       "    <tr>\n",
       "      <th>5</th>\n",
       "      <td>2024-04-01 04:43:13+00:00</td>\n",
       "      <td>12348</td>\n",
       "      <td>1378</td>\n",
       "      <td>cancelled</td>\n",
       "      <td>46.33</td>\n",
       "      <td>5.10</td>\n",
       "    </tr>\n",
       "    <tr>\n",
       "      <th>6</th>\n",
       "      <td>2024-04-01 06:05:22+00:00</td>\n",
       "      <td>10611</td>\n",
       "      <td>973</td>\n",
       "      <td>refunded</td>\n",
       "      <td>47.53</td>\n",
       "      <td>6.65</td>\n",
       "    </tr>\n",
       "    <tr>\n",
       "      <th>7</th>\n",
       "      <td>2024-04-01 06:26:28+00:00</td>\n",
       "      <td>12512</td>\n",
       "      <td>682</td>\n",
       "      <td>paid</td>\n",
       "      <td>21.30</td>\n",
       "      <td>1.70</td>\n",
       "    </tr>\n",
       "    <tr>\n",
       "      <th>8</th>\n",
       "      <td>2024-04-01 06:51:58+00:00</td>\n",
       "      <td>11911</td>\n",
       "      <td>1477</td>\n",
       "      <td>paid</td>\n",
       "      <td>29.11</td>\n",
       "      <td>2.04</td>\n",
       "    </tr>\n",
       "    <tr>\n",
       "      <th>9</th>\n",
       "      <td>2024-04-01 07:07:05+00:00</td>\n",
       "      <td>12982</td>\n",
       "      <td>1435</td>\n",
       "      <td>paid</td>\n",
       "      <td>19.27</td>\n",
       "      <td>0.00</td>\n",
       "    </tr>\n",
       "  </tbody>\n",
       "</table>\n",
       "</div>"
      ],
      "text/plain": [
       "                       time customer_id product_id     status  price  discount\n",
       "0 2024-03-31 22:17:20+00:00       12313       1414       paid  22.37      3.36\n",
       "1 2024-03-31 22:37:39+00:00       10758        878     placed  33.27      0.33\n",
       "2 2024-03-31 23:58:15+00:00       11028       1166       paid  13.18      1.05\n",
       "3 2024-04-01 01:33:13+00:00       12496       1414       paid  40.91      3.27\n",
       "4 2024-04-01 03:18:39+00:00       12036       1166     placed  38.58     10.03\n",
       "5 2024-04-01 04:43:13+00:00       12348       1378  cancelled  46.33      5.10\n",
       "6 2024-04-01 06:05:22+00:00       10611        973   refunded  47.53      6.65\n",
       "7 2024-04-01 06:26:28+00:00       12512        682       paid  21.30      1.70\n",
       "8 2024-04-01 06:51:58+00:00       11911       1477       paid  29.11      2.04\n",
       "9 2024-04-01 07:07:05+00:00       12982       1435       paid  19.27      0.00"
      ]
     },
     "execution_count": 98,
     "metadata": {},
     "output_type": "execute_result"
    }
   ],
   "source": [
    "# Definieren der Query\n",
    "\n",
    "# Datenabfrage mittels der definierten Query\n",
    "\n",
    "\n",
    "# Erstellung eines Dataframes aus den Query-Resultaten und Ausgabe der ersten 10 Records\n",
    "\n",
    "# Definieren der Query\n",
    "time_query_conditions = (time <= datetime(2024, 4, 4, 0, 0, 0, tzinfo=timezone.utc))\n",
    "                                          \n",
    "# Datenabfrage mittels der definierten Query\n",
    "my_results = db.search(time_query_conditions)\n",
    "\n",
    "# Erstellung eines Dataframes aus den Query-Resultaten\n",
    "df_result = points_to_dataframe(my_results)\n",
    "df_result.head(10)"
   ]
  },
  {
   "cell_type": "markdown",
   "id": "d6cbee6a-08fe-41e5-8d64-68b75ee448cf",
   "metadata": {
    "tags": []
   },
   "source": [
    "#### <b>Aufgabe (5): Ermitteln Sie über den gesamten Datensatz die Anzahl Transaktionen pro Monat</b>\n",
    "\n",
    "<b>Details zur Aufgabenstellung:</b>\n",
    "- Die Anzahl Transaktionen kann mittels len(df_result), angewendet auf das Dataframe oder die Rohausgabe des Queries, herausgegeben werden\n",
    "\n",
    "<b style=\"color: gray;\">(max. erreichbare Punkte: 8)</b>"
   ]
  },
  {
   "cell_type": "code",
   "execution_count": 99,
   "id": "e0016623",
   "metadata": {},
   "outputs": [],
   "source": [
    "# Definieren der Queries\n",
    "# 01/24\n",
    "q1 = (time >= datetime(2024, 4, 1, tzinfo=timezone.utc)) & (time <= datetime(2024, 5, 31, tzinfo=timezone.utc))\n",
    "resq1 = db.search(q1)\n",
    "df_result_q1 = points_to_dataframe(resq1)\n",
    "\n",
    "\n"
   ]
  },
  {
   "cell_type": "code",
   "execution_count": 100,
   "id": "6f7f77d3-e98c-4c72-a181-a08ff18c0a58",
   "metadata": {
    "tags": []
   },
   "outputs": [
    {
     "name": "stdout",
     "output_type": "stream",
     "text": [
      "April 24 1286\n",
      "Mai 24 1307\n",
      "Juni 24 1281\n",
      "Juli 24 3\n"
     ]
    }
   ],
   "source": [
    "# Definieren der Queries\n",
    "# 01/24\n",
    "#q1 = (time >= datetime(2024, 1, 1, tzinfo=timezone.utc)) & (time <= datetime(2024, 1, 31, tzinfo=timezone.utc))\n",
    "# 02/24\n",
    "#q2 = (time >= datetime(2024, 2, 1, tzinfo=timezone.utc)) & (time <= datetime(2024, 2, 29, tzinfo=timezone.utc))\n",
    "# 03/24\n",
    "#q3 = (time >= datetime(2024, 3, 1, tzinfo=timezone.utc)) & (time <= datetime(2024, 3, 31, tzinfo=timezone.utc))\n",
    "# 04/24\n",
    "q4 = (time >= datetime(2024, 4, 1, tzinfo=timezone.utc)) & (time <= datetime(2024, 4, 30, tzinfo=timezone.utc))\n",
    "# 05/24\n",
    "q5 = (time >= datetime(2024, 5, 1, tzinfo=timezone.utc)) & (time <= datetime(2024, 5, 31, tzinfo=timezone.utc))\n",
    "# 06/24\n",
    "q6 = (time >= datetime(2024, 6, 1, tzinfo=timezone.utc)) & (time <= datetime(2024, 6, 30, tzinfo=timezone.utc))\n",
    "# 07/24\n",
    "q7 = (time >= datetime(2024, 7, 1, tzinfo=timezone.utc)) & (time <= datetime(2024, 7, 31, tzinfo=timezone.utc))\n",
    "# 08/24\n",
    "q8 = (time >= datetime(2024, 8, 1, tzinfo=timezone.utc)) & (time <= datetime(2024, 8, 31, tzinfo=timezone.utc))\n",
    "# 09/24\n",
    "q9 = (time >= datetime(2024, 9, 1, tzinfo=timezone.utc)) & (time <= datetime(2024, 9, 30, tzinfo=timezone.utc))\n",
    "# 10/24\n",
    "q10 = (time >= datetime(2024, 10, 1, tzinfo=timezone.utc)) & (time <= datetime(2024, 10, 31, tzinfo=timezone.utc))\n",
    "# 11/24\n",
    "q11 = (time >= datetime(2024, 11, 1, tzinfo=timezone.utc)) & (time <= datetime(2024, 11, 30, tzinfo=timezone.utc))\n",
    "# 12/24\n",
    "q12 = (time >= datetime(2024, 12, 1, tzinfo=timezone.utc)) & (time <= datetime(2024, 12, 31, tzinfo=timezone.utc))\n",
    "\n",
    "# Datenabfrage mittels der definierten Queries\n",
    "my_results_q1 = db.search(q1)\n",
    "my_results_q2 = db.search(q2)\n",
    "my_results_q3 = db.search(q3)\n",
    "my_results_q4 = db.search(q4)\n",
    "my_results_q5 = db.search(q5)\n",
    "my_results_q6 = db.search(q6)\n",
    "my_results_q7 = db.search(q7)\n",
    "my_results_q8 = db.search(q8)\n",
    "my_results_q9 = db.search(q9)\n",
    "my_results_q10 = db.search(q10)\n",
    "my_results_q11 = db.search(q11)\n",
    "my_results_q12 = db.search(q12)\n",
    "\n",
    "\n",
    "# Erstellung eines Dataframes aus den Query-Resultaten\n",
    "#df_result_q1 = points_to_dataframe(my_results_q1)\n",
    "#df_result_q2 = points_to_dataframe(my_results_q2)\n",
    "#df_result_q3 = points_to_dataframe(my_results_q3)\n",
    "df_result_q4 = points_to_dataframe(my_results_q4)\n",
    "df_result_q5 = points_to_dataframe(my_results_q5)\n",
    "df_result_q6 = points_to_dataframe(my_results_q6)\n",
    "df_result_q7 = points_to_dataframe(my_results_q7)\n",
    "#df_result_q8 = points_to_dataframe(my_results_q8)\n",
    "#df_result_q9 = points_to_dataframe(my_results_q9)\n",
    "#df_result_q10 = points_to_dataframe(my_results_q10)\n",
    "#df_result_q11 = points_to_dataframe(my_results_q11)\n",
    "#df_result_q12 = points_to_dataframe(my_results_q12)\n",
    "\n",
    "\n",
    "# Ausgabe der aggregierten Resultate\n",
    "print(f\"April 24 {len(df_result_q4)}\")\n",
    "print(f\"Mai 24 {len(df_result_q5)}\")\n",
    "print(f\"Juni 24 {len(df_result_q6)}\")\n",
    "print(f\"Juli 24 {len(df_result_q7)}\")\n",
    "\n",
    "\n",
    "\n",
    "\n"
   ]
  },
  {
   "cell_type": "markdown",
   "id": "b467f4eb-d2ea-4a29-926b-94adf3eea0f1",
   "metadata": {
    "tags": []
   },
   "source": [
    "#### <b>Aufgabe (6): Ermitteln Sie den Median aller Discount-Beträge pro Status und Monat</b>\n",
    "\n",
    "<b>Details zur Aufgabenstellung:</b>\n",
    "- Alle im Datensatz vorhandenen Status können Sie mittels der Pandas-Funktion \"df.attributname.unique()\" (https://pandas.pydata.org/docs/reference/api/pandas.unique.html) ermitteln\n",
    "- Den Durchschnitt über eine Spalte können Sie mittels der Pandas-Funktion df[['spaltenname']].mean() https://pandas.pydata.org/pandas-docs/stable/reference/api/pandas.DataFrame.mean.html ermitteln\n",
    "\n",
    "<b style=\"color: gray;\">(max. erreichbare Punkte: 12)</b>"
   ]
  },
  {
   "cell_type": "code",
   "execution_count": 101,
   "id": "0c638303-0b35-4e5d-8454-e877e7f0f868",
   "metadata": {
    "tags": []
   },
   "outputs": [
    {
     "data": {
      "text/plain": [
       "array(['paid', 'cancelled', 'placed', 'refunded'], dtype=object)"
      ]
     },
     "execution_count": 101,
     "metadata": {},
     "output_type": "execute_result"
    }
   ],
   "source": [
    "df.status.unique()\n"
   ]
  },
  {
   "cell_type": "code",
   "execution_count": 114,
   "id": "04c1636b-1760-4dcd-bdf2-f109d9a9c443",
   "metadata": {
    "tags": []
   },
   "outputs": [
    {
     "name": "stdout",
     "output_type": "stream",
     "text": [
      "Für Staus paid und April discount    3.05048\n",
      "dtype: float64\n",
      "Für Staus paid und Mai discount    3.027086\n",
      "dtype: float64\n",
      "Für Staus paid und Juni discount    3.097709\n",
      "dtype: float64\n",
      "Für Staus cancelled und April discount    3.05048\n",
      "dtype: float64\n",
      "Für Staus cancelled und Mai discount    3.027086\n",
      "dtype: float64\n",
      "Für Staus cancelled und Juni discount    3.097709\n",
      "dtype: float64\n",
      "Für Staus placed und April discount    3.05048\n",
      "dtype: float64\n",
      "Für Staus placed und Mai discount    3.027086\n",
      "dtype: float64\n",
      "Für Staus placed und Juni discount    3.097709\n",
      "dtype: float64\n",
      "Für Staus refunded und April discount    3.05048\n",
      "dtype: float64\n",
      "Für Staus refunded und Mai discount    3.027086\n",
      "dtype: float64\n",
      "Für Staus refunded und Juni discount    3.097709\n",
      "dtype: float64\n"
     ]
    }
   ],
   "source": [
    "qq4 = (time >= datetime(2024, 4, 1, tzinfo=timezone.utc)) & (time <= datetime(2024, 4, 30, tzinfo=timezone.utc))\n",
    "# 05/24\n",
    "qq5 = (time >= datetime(2024, 5, 1, tzinfo=timezone.utc)) & (time <= datetime(2024, 5, 31, tzinfo=timezone.utc))\n",
    "# 06/24\n",
    "qq6 = (time >= datetime(2024, 6, 1, tzinfo=timezone.utc)) & (time <= datetime(2024, 6, 30, tzinfo=timezone.utc))\n",
    "# 07/24\n",
    "qq7 = (time >= datetime(2024, 7, 1, tzinfo=timezone.utc)) & (time <= datetime(2024, 7, 31, tzinfo=timezone.utc))\n",
    "\n",
    "# Definieren der Tag-Queries\n",
    "tag1 = (tags.status == 'paid')\n",
    "tag2 = (tags.status == 'cancelled')\n",
    "tag3 = (tags.status == 'placed')\n",
    "tag4 = (tags.status == 'refunded')\n",
    "\n",
    "\n",
    "# Datenabfrage mittels der definierten Queries\n",
    "my_results1 = db.search(tag1 & qq4 & qq5 & qq6 & qq7)\n",
    "my_results11 = db.search(tag1 & qq4)\n",
    "my_results12 = db.search(tag1 & qq5)\n",
    "my_results13 = db.search(tag1 & qq6)\n",
    "my_results14 = db.search(tag1 & qq7)\n",
    "\n",
    "my_results2 = db.search(tag2 &  qq4 & qq5 & qq6 & qq7)\n",
    "my_results21 = db.search(tag2 & qq4)\n",
    "my_results22 = db.search(tag2 & qq5)\n",
    "my_results23 = db.search(tag2 & qq6)\n",
    "my_results24 = db.search(tag2 & qq7)\n",
    "\n",
    "my_results3 = db.search(tag3 &  qq4 & qq5 & qq6 & qq7)\n",
    "my_results31 = db.search(tag3 & qq4)\n",
    "my_results32 = db.search(tag3 & qq5)\n",
    "my_results33 = db.search(tag3 & qq6)\n",
    "my_results34 = db.search(tag3 & qq7)\n",
    "\n",
    "my_results4 = db.search(tag4 &  qq4 & qq5 & qq6 & qq7)\n",
    "my_results41 = db.search(tag4 & qq4)\n",
    "my_results42 = db.search(tag4 & qq5)\n",
    "my_results43 = db.search(tag4 & qq6)\n",
    "my_results44 = db.search(tag4 & qq7)\n",
    "\n",
    "df11 = points_to_dataframe(my_results11)\n",
    "df12 = points_to_dataframe(my_results12)\n",
    "df13 = points_to_dataframe(my_results13)\n",
    "#f14 = points_to_dataframe(my_results14)\n",
    "\n",
    "df21 = points_to_dataframe(my_results11)\n",
    "df22 = points_to_dataframe(my_results12)\n",
    "df23 = points_to_dataframe(my_results13)\n",
    "#df24 = points_to_dataframe(my_results14)\n",
    "\n",
    "df31 = points_to_dataframe(my_results11)\n",
    "df32 = points_to_dataframe(my_results12)\n",
    "df33 = points_to_dataframe(my_results13)\n",
    "#df34 = points_to_dataframe(my_results14)\n",
    "\n",
    "df41 = points_to_dataframe(my_results11)\n",
    "df42 = points_to_dataframe(my_results12)\n",
    "df43 = points_to_dataframe(my_results13)\n",
    "#df44 = points_to_dataframe(my_results14)\n",
    "\n",
    "\n",
    "print(f\"Für Staus paid und April {df11[['discount']].mean()}\")\n",
    "print(f\"Für Staus paid und Mai {df12[['discount']].mean()}\")\n",
    "print(f\"Für Staus paid und Juni {df13[['discount']].mean()}\")\n",
    "\n",
    "print(f\"Für Staus cancelled und April {df21[['discount']].mean()}\")\n",
    "print(f\"Für Staus cancelled und Mai {df12[['discount']].mean()}\")\n",
    "print(f\"Für Staus cancelled und Juni {df13[['discount']].mean()}\")\n",
    "\n",
    "print(f\"Für Staus placed und April {df31[['discount']].mean()}\")\n",
    "print(f\"Für Staus placed und Mai {df32[['discount']].mean()}\")\n",
    "print(f\"Für Staus placed und Juni {df33[['discount']].mean()}\")\n",
    "\n",
    "print(f\"Für Staus refunded und April {df41[['discount']].mean()}\")\n",
    "print(f\"Für Staus refunded und Mai {df42[['discount']].mean()}\")\n",
    "print(f\"Für Staus refunded und Juni {df43[['discount']].mean()}\")\n",
    "\n",
    "\n",
    "\n",
    "\n"
   ]
  },
  {
   "cell_type": "markdown",
   "id": "ff525b1e",
   "metadata": {},
   "source": [
    "### Jupyter notebook --footer info-- (please always provide this at the end of each notebook)"
   ]
  },
  {
   "cell_type": "code",
   "execution_count": 115,
   "id": "0056cbfd-b72f-416c-a974-72134cd592a1",
   "metadata": {},
   "outputs": [
    {
     "name": "stdout",
     "output_type": "stream",
     "text": [
      "-----------------------------------\n",
      "POSIX\n",
      "Linux | 6.8.0-1030-azure\n",
      "Datetime: 2025-10-06 08:35:56\n",
      "Python Version: 3.12.1\n",
      "IP Address: 127.0.0.1\n",
      "-----------------------------------\n"
     ]
    }
   ],
   "source": [
    "import os\n",
    "import platform\n",
    "import socket\n",
    "from platform import python_version\n",
    "from datetime import datetime\n",
    "\n",
    "print('-----------------------------------')\n",
    "print(os.name.upper())\n",
    "print(platform.system(), '|', platform.release())\n",
    "print('Datetime:', datetime.now().strftime(\"%Y-%m-%d %H:%M:%S\"))\n",
    "print('Python Version:', python_version())\n",
    "print('IP Address:', socket.gethostbyname(socket.gethostname()))\n",
    "print('-----------------------------------')"
   ]
  }
 ],
 "metadata": {
  "kernelspec": {
   "display_name": "Python 3",
   "language": "python",
   "name": "python3"
  },
  "language_info": {
   "codemirror_mode": {
    "name": "ipython",
    "version": 3
   },
   "file_extension": ".py",
   "mimetype": "text/x-python",
   "name": "python",
   "nbconvert_exporter": "python",
   "pygments_lexer": "ipython3",
   "version": "3.12.1"
  }
 },
 "nbformat": 4,
 "nbformat_minor": 5
}
